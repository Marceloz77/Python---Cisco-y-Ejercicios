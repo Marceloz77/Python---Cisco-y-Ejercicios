{
  "nbformat": 4,
  "nbformat_minor": 0,
  "metadata": {
    "colab": {
      "name": "PruebasPythonCisco.ipynb",
      "provenance": [],
      "toc_visible": true,
      "authorship_tag": "ABX9TyMP/XDZIMwPwdNc1JcklTDX",
      "include_colab_link": true
    },
    "kernelspec": {
      "name": "python3",
      "display_name": "Python 3"
    },
    "language_info": {
      "name": "python"
    }
  },
  "cells": [
    {
      "cell_type": "markdown",
      "metadata": {
        "id": "view-in-github",
        "colab_type": "text"
      },
      "source": [
        "<a href=\"https://colab.research.google.com/github/Marceloz77/Python---Cisco-y-Ejercicios/blob/main/PruebasPythonCisco.ipynb\" target=\"_parent\"><img src=\"https://colab.research.google.com/assets/colab-badge.svg\" alt=\"Open In Colab\"/></a>"
      ]
    },
    {
      "cell_type": "markdown",
      "source": [
        "#Ejercicio 1\n",
        "\n",
        "####Crea un bucle for que cuente de 0 a 10, e imprima números impares en la pantalla."
      ],
      "metadata": {
        "id": "w52VCxQ-aEoX"
      }
    },
    {
      "cell_type": "code",
      "execution_count": null,
      "metadata": {
        "colab": {
          "base_uri": "https://localhost:8080/"
        },
        "id": "0vXSJnbzaATg",
        "outputId": "3ace155d-9c21-4845-bf86-02d38b9d256c"
      },
      "outputs": [
        {
          "output_type": "stream",
          "name": "stdout",
          "text": [
            "1\n",
            "3\n",
            "5\n",
            "7\n",
            "9\n",
            "\n",
            "1\n",
            "3\n",
            "5\n",
            "7\n",
            "9\n"
          ]
        }
      ],
      "source": [
        "for i in range(11):\n",
        "    if i % 2 != 0:\n",
        "      print(i)\n",
        "print()\n",
        "for i in range(1, 10, 2):\n",
        "    print(i)"
      ]
    },
    {
      "cell_type": "markdown",
      "source": [
        "#Ejercicio 2\n",
        "\n",
        "####Crea un bucle while que cuente de 0 a 10, e imprima números impares en la pantalla."
      ],
      "metadata": {
        "id": "9ZpP9xz_cPzB"
      }
    },
    {
      "cell_type": "code",
      "source": [
        "x = 1\n",
        "while x < 11:\n",
        "    print(x)\n",
        "    x += 2\n",
        "\n",
        "print()\n",
        "\n",
        "x = 1\n",
        "while x < 11:\n",
        "    if x % 2 != 0:\n",
        "        print(x)\n",
        "    x += 1"
      ],
      "metadata": {
        "colab": {
          "base_uri": "https://localhost:8080/"
        },
        "id": "3rKiLO3-cTDW",
        "outputId": "94e7a739-e374-4f5a-f33e-e584d1809625"
      },
      "execution_count": null,
      "outputs": [
        {
          "output_type": "stream",
          "name": "stdout",
          "text": [
            "1\n",
            "3\n",
            "5\n",
            "7\n",
            "9\n",
            "\n",
            "1\n",
            "3\n",
            "5\n",
            "7\n",
            "9\n"
          ]
        }
      ]
    },
    {
      "cell_type": "markdown",
      "source": [
        "#Ejercicio 3\n",
        "\n",
        "####Crea un programa con un bucle for y una sentencia break. El programa debe iterar sobre los caracteres en una dirección de correo electrónico, salir del bucle cuando llegue al símbolo @ e imprimir la parte antes de @ en una línea."
      ],
      "metadata": {
        "id": "erIqxPzngL5f"
      }
    },
    {
      "cell_type": "code",
      "source": [
        "for ch in \"john.smith@pythoninstitute.org\":\n",
        "    if ch == \"@\":\n",
        "      break\n",
        "    print(ch, end=\"\")"
      ],
      "metadata": {
        "colab": {
          "base_uri": "https://localhost:8080/"
        },
        "id": "zC7QRmcvgOMg",
        "outputId": "f2184633-2fe8-4d40-a5e5-67b433ffd7a1"
      },
      "execution_count": null,
      "outputs": [
        {
          "output_type": "stream",
          "name": "stdout",
          "text": [
            "john.smith"
          ]
        }
      ]
    },
    {
      "cell_type": "markdown",
      "source": [
        "#Ejercicio 4\n",
        "\n",
        "####Crea un programa con un bucle for y una sentenciacontinue. El programa debe iterar sobre una cadena de dígitos, reemplazar cada 0 con x, e imprimir la cadena modificada en la pantalla."
      ],
      "metadata": {
        "id": "OTOJ3dE8gtSz"
      }
    },
    {
      "cell_type": "code",
      "source": [
        "for digit in \"0165031806510\":\n",
        "    if digit == \"0\":\n",
        "      print(\"x\", end=\"\")\n",
        "      continue\n",
        "    print(digit, end=\"\")"
      ],
      "metadata": {
        "colab": {
          "base_uri": "https://localhost:8080/"
        },
        "id": "9Zd7liPtgxN5",
        "outputId": "e2ca36f0-2cfd-4824-bdd8-194273586881"
      },
      "execution_count": null,
      "outputs": [
        {
          "output_type": "stream",
          "name": "stdout",
          "text": [
            "x165x318x651x"
          ]
        }
      ]
    },
    {
      "cell_type": "markdown",
      "source": [
        "# Expresiones Logicas\n",
        " *-La negación de una conjunción es la separación de las negaciones.*\n",
        "\n",
        " *-La negación de una disyunción es la conjunción de las negaciones.*\n",
        "\n",
        " *not (p and q) == (not p) or (not q)*\n",
        "\n",
        " *not (p or q) == (not p) and (not q)*"
      ],
      "metadata": {
        "id": "9CgWSkkfD2_x"
      }
    },
    {
      "cell_type": "markdown",
      "source": [
        "# Listas - colecciones de datos\n",
        "\n",
        "#### Las listas son variables que pueden almacenar mas de un valor.\n",
        "#### a\n"
      ],
      "metadata": {
        "id": "KHIKD8POJFg3"
      }
    },
    {
      "cell_type": "markdown",
      "source": [
        "Escribiremos un programa que ordene una secuencia de números."
      ],
      "metadata": {
        "id": "kNGjYwvnJsh4"
      }
    },
    {
      "cell_type": "code",
      "source": [
        "\n",
        "hat_list = [1, 2, 3, 4, 5]  # Esta es una lista existente de números ocultos en el sombrero.\n",
        "print(\"Lista actual\", hat_list)\n",
        "\n",
        "hat_list[2] = int(input(\"Ingrese el n° de reemplazo del n° central: \"))\n",
        "print(\"\\nLista con el n° de reemplazo:\", hat_list)\n",
        "\n",
        "del(hat_list[-1])\n",
        "print(\"\\nLista con el ultimo elemento eliminado:\", hat_list)\n",
        "\n",
        "print(\"\\nLongitud de la nueva lista:\", len(hat_list))\n",
        "\n",
        "print(\"\\nLista definitiva:\", hat_list)"
      ],
      "metadata": {
        "colab": {
          "base_uri": "https://localhost:8080/"
        },
        "id": "JtDjGvv_D9re",
        "outputId": "9298145a-643e-44c7-8d22-a77f583daffc"
      },
      "execution_count": null,
      "outputs": [
        {
          "output_type": "stream",
          "name": "stdout",
          "text": [
            "Lista actual [1, 2, 3, 4, 5]\n",
            "Ingrese el n° de reemplazo del n° central: 8\n",
            "\n",
            "Lista con el n° de reemplazo: [1, 2, 8, 4, 5]\n",
            "\n",
            "Lista con el ultimo elemento eliminado: [1, 2, 8, 4]\n",
            "\n",
            "Longitud de la nueva lista: 4\n",
            "\n",
            "Lista definitiva: [1, 2, 8, 4]\n"
          ]
        }
      ]
    },
    {
      "cell_type": "markdown",
      "source": [
        "# Funciones frente a métodos | Métodos de Listas\n",
        "\n",
        "#####Un **método** es un tipo específico de función: se comporta como una función y se parece a una función, pero difiere en la forma en que actúa y en su estilo de invocación.\n",
        "\n",
        "#####Una función no pertenece a ningún dato: obtiene datos, puede crear nuevos datos y (generalmente) produce un resultado.\n",
        "\n",
        "#####Un método hace todas estas cosas, pero también puede cambiar el estado de una entidad seleccionada.\n",
        "\n",
        "#####**Un método es propiedad de los datos para los que trabaja, mientras que una función es propiedad de todo el código.**"
      ],
      "metadata": {
        "id": "6qT-LQtOX0Lx"
      }
    },
    {
      "cell_type": "markdown",
      "source": [
        "##Agregando elementos a una lista: *append()* e **insert()*\n",
        "\n",
        "#####Un elemento nuevo puede añadirse al final de la lista existente con *append()*\n",
        "\n",
        "#####El método *insert()* puede agregar un nuevo elemento en cualquier lugar de la lista. El primer argumento como lugar de la lista, y el segundo como el valor a agregar"
      ],
      "metadata": {
        "id": "uTvWqVvqZKyQ"
      }
    },
    {
      "cell_type": "code",
      "source": [
        "lista = [1, 3, 4, 5]\n",
        "\n",
        "lista.append(6) #agrega al final de la lista el 6\n",
        "print(\"Lista con el método append(6): \", lista)\n",
        "\n",
        "lista.insert(1, 2) #agrega el valor \"2\" al segundo lugar(indexado en 0 por eso el \"1\")\n",
        "print(\"\\nLista con el metodo insert(1, 2):\", lista)\n",
        "\n",
        "lista_vacia = [] #creando una lista vacia\n",
        "for i in range(5): #itero en cada elemento del rango hasta que i sea 5\n",
        "  lista_vacia.append(i + 1) #agrego i + 1 (porque i = 0) en cada iteracion\n",
        "print(\"\\nLista vacia agregando elementos en cada iterada con un for:\", lista_vacia)\n",
        "\n",
        "lista_vacia2 = []\n",
        "for i in range(5):\n",
        "    lista_vacia2.insert(0, i + 1)\n",
        "print(\"\\nEn la segunda lista vacia agrego elementos con el metodo .insert():\", lista_vacia2)\n"
      ],
      "metadata": {
        "colab": {
          "base_uri": "https://localhost:8080/"
        },
        "id": "Wph9P5P3ZKC2",
        "outputId": "a27ae7fd-8886-4da5-abea-d97a3b5509dd"
      },
      "execution_count": null,
      "outputs": [
        {
          "output_type": "stream",
          "name": "stdout",
          "text": [
            "Lista con el método append(6):  [1, 3, 4, 5, 6]\n",
            "\n",
            "Lista con el metodo insert(1, 2): [1, 2, 3, 4, 5, 6]\n",
            "\n",
            "Lista vacia agregando elementos en cada iterada con un for: [1, 2, 3, 4, 5]\n",
            "\n",
            "En la segunda lista vacia agrego elementos con el metodo .insert(): [5, 4, 3, 2, 1]\n"
          ]
        }
      ]
    },
    {
      "cell_type": "markdown",
      "source": [
        "##Haciendo uso de las listas\n",
        "\n",
        "#####Con el bucle for, podemos procesar la lista de una manera efectiva.\n",
        "#####Supongamos que deseemos calcular la suma de todos los valores de la lista"
      ],
      "metadata": {
        "id": "SJcbjdsgbTvC"
      }
    },
    {
      "cell_type": "code",
      "source": [
        "lista = [10, 1, 8, 3, 5]\n",
        "total = 0\n",
        "\n",
        "for i in range(len(lista)):\n",
        "    total += lista[i]\n",
        "print(\"La suma de los datos de la lista es: \", total)\n",
        "print()\n",
        "print()\n",
        "#Aunque se puede utilizar el for de otra manera\n",
        "total2 = 0\n",
        "for i in lista:\n",
        "    total2 += i\n",
        "print(\"\\nLa suma de todos los valores de la lista son:\", total2)"
      ],
      "metadata": {
        "colab": {
          "base_uri": "https://localhost:8080/"
        },
        "id": "jd78GO7Jdu1Z",
        "outputId": "020168ef-8bbd-45c6-e860-eab89e6f6e91"
      },
      "execution_count": null,
      "outputs": [
        {
          "output_type": "stream",
          "name": "stdout",
          "text": [
            "La suma de los datos de la lista es:  27\n",
            "\n",
            "\n",
            "\n",
            "La suma de todos los valores de la lista son: 27\n"
          ]
        }
      ]
    },
    {
      "cell_type": "markdown",
      "source": [
        "##Intercambiando valores de las listas\n",
        "\n",
        "\n",
        "\n",
        "\n",
        "\n"
      ],
      "metadata": {
        "id": "1EnObS1Q7UA4"
      }
    },
    {
      "cell_type": "code",
      "source": [
        "lista = [2, 4, 6]\n",
        "lista2 = [3, 5, 7]\n",
        "print(lista, lista2, sep=\"-\")\n",
        "print()\n",
        "lista, lista2 = lista2, lista\n",
        "print(lista, lista2, sep=\"-\")\n",
        "print()\n",
        "my_list = [10, 1, 8, 3, 5]\n",
        "\n",
        "my_list[0], my_list[4] = my_list[4], my_list[0] #Intercambiancon con la indexacion de la lista\n",
        "my_list[1], my_list[3] = my_list[3], my_list[1]\n",
        "\n",
        "print(my_list)"
      ],
      "metadata": {
        "id": "8Fo-L-xEzqPx",
        "outputId": "1c1c8863-a15a-4b1f-affc-5b794620c24a",
        "colab": {
          "base_uri": "https://localhost:8080/"
        }
      },
      "execution_count": 8,
      "outputs": [
        {
          "output_type": "stream",
          "name": "stdout",
          "text": [
            "[2, 4, 6]-[3, 5, 7]\n",
            "\n",
            "[3, 5, 7]-[2, 4, 6]\n",
            "\n",
            "[5, 3, 8, 1, 10]\n"
          ]
        }
      ]
    },
    {
      "cell_type": "markdown",
      "source": [
        "###Usando el bucle for, para listas mas largas"
      ],
      "metadata": {
        "id": "MlMz7jYHZLNF"
      }
    },
    {
      "cell_type": "code",
      "source": [
        "mi_lista = [10, 1, 8, 3, 5]\n",
        "longitud = len(mi_lista)\n",
        "\n",
        "for i in range(longitud // 2):\n",
        "    mi_lista[i], mi_lista[longitud - i - 1] = mi_lista[longitud - i - 1], mi_lista[i]\n",
        "    #Intercambiando el elemento i desde el principio de la lista por\n",
        "    #el ultimo elemento\n",
        "print(mi_lista)"
      ],
      "metadata": {
        "colab": {
          "base_uri": "https://localhost:8080/"
        },
        "id": "lErC0238ZSMg",
        "outputId": "84faa7dd-e864-44d7-deaf-6c853840e1e6"
      },
      "execution_count": 10,
      "outputs": [
        {
          "output_type": "stream",
          "name": "stdout",
          "text": [
            "[5, 3, 8, 1, 10]\n"
          ]
        }
      ]
    },
    {
      "cell_type": "markdown",
      "source": [
        "####Ejercicio Listas\n",
        "\n",
        "Escribe un programa que refleje estos cambios y le permita practicar con el concepto de listas. Tu tarea es:\n",
        "\n",
        "*  Paso 1: Crea una lista vacía llamada beatles.\n",
        "*  Paso 2: Emplea el método append() para agregar los siguientes miembros de la banda a la lista: John Lennon, Paul McCartney y George Harrison.\n",
        "*  Paso 3: Emplea el buclefor y el append() para pedirle al usuario que agregue los siguientes miembros de la banda a la lista: Stu Sutcliffe, y Pete Best.\n",
        "*  Paso 4: Usa la instrucción del para eliminar a Stu Sutcliffe y Pete Best de la lista.\n",
        "*  Paso 5: Usa el método insert() para agregar a Ringo Starr al principio de la lista."
      ],
      "metadata": {
        "id": "bpiyR0srda39"
      }
    },
    {
      "cell_type": "code",
      "source": [
        "beatles = []# paso 1\n",
        "print(\"Paso 1:\", beatles)\n",
        "\n",
        "#paso 2\n",
        "beatles.append(\"John Lennon\")\n",
        "beatles.append(\"Paul McCartney\")\n",
        "beatles.append(\"George Harrison\")\n",
        "print(\"Paso 2:\", beatles)\n",
        "\n",
        "# paso 3\n",
        "for i in range(2):\n",
        "    nombre = input(\"Agrega al siguiente Beatle: \")\n",
        "    beatles.append(nombre)\n",
        "print(\"Paso 3:\", beatles)\n",
        "\n",
        "# paso 4\n",
        "del beatles[4]\n",
        "del beatles[3]\n",
        "print(\"Paso 4:\", beatles)\n",
        "\n",
        "# paso 5\n",
        "beatles.insert(0, \"Ringo Starr\")\n",
        "print(\"Paso 5:\", beatles)\n",
        "\n",
        "\n",
        "# probando la longitud de la lista\n",
        "print(\"Los Fav\", len(beatles))"
      ],
      "metadata": {
        "colab": {
          "base_uri": "https://localhost:8080/"
        },
        "id": "arkkgph5dwcG",
        "outputId": "f5a5cbe4-496c-4456-d111-b2700a500bc0"
      },
      "execution_count": 11,
      "outputs": [
        {
          "output_type": "stream",
          "name": "stdout",
          "text": [
            "Paso 1: []\n",
            "Paso 2: ['John Lennon', 'Paul McCartney', 'George Harrison']\n",
            "Agrega al siguiente Beatle: Stu Sutcliffe\n",
            "Agrega al siguiente Beatle: Pete Best\n",
            "Paso 3: ['John Lennon', 'Paul McCartney', 'George Harrison', 'Stu Sutcliffe', 'Pete Best']\n",
            "Paso 4: ['John Lennon', 'Paul McCartney', 'George Harrison']\n",
            "Paso 5: ['Ringo Starr', 'John Lennon', 'Paul McCartney', 'George Harrison']\n",
            "Los Fav 4\n"
          ]
        }
      ]
    },
    {
      "cell_type": "markdown",
      "source": [
        "##Resumen de la Seccion\n",
        "\n",
        "\n",
        "1.   La lista es un tipo de dato en Py que se utiliza para almacenar múltiples objetos. Es una coleccion ordenada y mutable de elementos separados por comas entre corchetes.\n",
        "2.   Las listas se pueden indexar y actualizar.\n",
        "3.   Las listas pueden estar **anidadas**.\n",
        "4.   Los elementos se pueden eliminar.\n",
        "5.   Las listas pueden ser **iteradas** con el bucle for.\n",
        "6.   Usando la funcion len() puedo verificar la longitud de la lista.\n"
      ],
      "metadata": {
        "id": "WYcpJKIbecJZ"
      }
    },
    {
      "cell_type": "code",
      "source": [
        "#Indexando una lista\n",
        "miLista = [\"hola\", \"chau\", 2, True, 0]\n",
        "print(\"El 3° lugar de la lista es:\", miLista[3])\n",
        "\n",
        "#Actualizando la lista\n",
        "miLista[3] = \"Tercer Lugar\"\n",
        "print(\"\\nEl valor actualizado del 3° lugar de la lista es:\", miLista[3])\n",
        "\n",
        "#Listas Anidadas\n",
        "lista_anidada = [1, \"b\", [\"anidado1\", 3, [\"anidado2\"], 5], 6]\n",
        "print(\"\\nLa lista anidada:\", lista_anidada)\n",
        "print(\"\\nEl valor 2.1 de la lista anidada es:\", lista_anidada[2][1])\n",
        "\n",
        "#Eliminando elementos\n",
        "lista_a_eliminar = [2, 4, 5, 7]\n",
        "print(\"\\nLa lista sin elementos eliminados es:\", lista_a_eliminar)\n",
        "del lista_a_eliminar[2]\n",
        "print(\"\\nEliminando el 2do elemento de la lista nos queda:\", lista_a_eliminar)\n",
        "\n",
        "#Iterando la lista con el bucle for\n",
        "for i in miLista:\n",
        "  print(\"\\nLos elementos de miLista son:\", i)\n",
        "\n",
        "#Verificando la longitud de miLista\n",
        "print(\"\\nLa longitud de miLista es de:\", len(miLista), \"elementos\")"
      ],
      "metadata": {
        "colab": {
          "base_uri": "https://localhost:8080/"
        },
        "id": "XGrYIN5DehCR",
        "outputId": "0fb9c153-0e9d-422d-90ac-785665f04873"
      },
      "execution_count": 21,
      "outputs": [
        {
          "output_type": "stream",
          "name": "stdout",
          "text": [
            "El 3° lugar de la lista es: True\n",
            "\n",
            "El valor actualizado del 3° lugar de la lista es: Tercer Lugar\n",
            "\n",
            "La lista anidada: [1, 'b', ['anidado1', 3, ['anidado2'], 5], 6]\n",
            "\n",
            "El valor 2.1 de la lista anidada es: 3\n",
            "\n",
            "La lista sin elementos eliminados es: [2, 4, 5, 7]\n",
            "\n",
            "Eliminando el 2do elemento de la lista nos queda: [2, 4, 7]\n",
            "\n",
            "Los elementos de miLista son: hola\n",
            "\n",
            "Los elementos de miLista son: chau\n",
            "\n",
            "Los elementos de miLista son: 2\n",
            "\n",
            "Los elementos de miLista son: Tercer Lugar\n",
            "\n",
            "Los elementos de miLista son: 0\n",
            "\n",
            "La longitud de miLista es de: 5 elementos\n"
          ]
        }
      ]
    },
    {
      "cell_type": "markdown",
      "source": [
        "##Ordenando Listas\n",
        "\n",
        "> Las listas de pueden ordenar de manera **ascendente** o **descendente**.\n",
        "La esencia para ordenarlos es comprandolos con el elemento adyacente, y en el caso de que sea, o mayor o menor dependiendo de si queremos ordenarlos de manera creciente o decreciente, intercambiamos su lugar.\n",
        "\n",
        "\n",
        "\n"
      ],
      "metadata": {
        "id": "c0alMc6Ri8vk"
      }
    },
    {
      "cell_type": "code",
      "source": [
        "lista_a_ordenar = [2, 8, 3, 1, 10, 7]\n",
        "cambio = True #True para ingresar al bucle while\n",
        "while cambio:\n",
        "  cambio = False #lo utilizamos como un interruptor(apagado) cuando se ingresa al bucle\n",
        "  for i in range(len(lista_a_ordenar)-1):\n",
        "    if lista_a_ordenar[i] > lista_a_ordenar[i+1]:\n",
        "      cambio = True #Lo \"Encendemos\" si el la condicion se comprueba y abajo se va a realizar el cambio\n",
        "      lista_a_ordenar[i], lista_a_ordenar[i+1] = lista_a_ordenar[i+1], lista_a_ordenar[i]\n",
        "print(lista_a_ordenar)"
      ],
      "metadata": {
        "colab": {
          "base_uri": "https://localhost:8080/"
        },
        "id": "9-Lu9B6BjRaC",
        "outputId": "d6ac4958-e8d7-4e13-d119-ff023225ef65"
      },
      "execution_count": 29,
      "outputs": [
        {
          "output_type": "stream",
          "name": "stdout",
          "text": [
            "[1, 2, 3, 7, 8, 10]\n"
          ]
        }
      ]
    },
    {
      "cell_type": "code",
      "source": [
        "my_list = []\n",
        "swapped = True\n",
        "num = int(input(\"¿Cuántos elementos deseas ordenar?: \"))\n",
        "\n",
        "for i in range(num):\n",
        "    val = float(input(\"Ingresa un elemento de la lista: \"))\n",
        "    my_list.append(val)\n",
        "\n",
        "while swapped:\n",
        "    swapped = False\n",
        "    for i in range(len(my_list) - 1):\n",
        "        if my_list[i] > my_list[i + 1]:\n",
        "            swapped = True\n",
        "            my_list[i], my_list[i + 1] = my_list[i + 1], my_list[i]\n",
        "\n",
        "print(\"\\nOrdenada:\")\n",
        "print(my_list)"
      ],
      "metadata": {
        "id": "SaFez3PuAbIT"
      },
      "execution_count": null,
      "outputs": []
    },
    {
      "cell_type": "markdown",
      "source": [
        "###Metodos para ordenar listas\n",
        "*   Aunque existe un metodo que nos ofrece python para esta tarea, y es el metodo **.sort()**.\n",
        "*   Tambien, Python nos ofrece otro metodo **.reverse()** para invertir la lista."
      ],
      "metadata": {
        "id": "1leK_tIYAvl7"
      }
    },
    {
      "cell_type": "code",
      "source": [
        "lista = [100, 20, 31, 1, 6, 11]\n",
        "print(\"Lista desordenada:\", lista)\n",
        "lista.sort()\n",
        "print(\"\\nLista Ordenada:\", lista)\n",
        "lista.reverse()\n",
        "print(\"\\nLista Inversa:\", lista)"
      ],
      "metadata": {
        "colab": {
          "base_uri": "https://localhost:8080/"
        },
        "id": "hxkbRlMgA9aS",
        "outputId": "e61409cf-ddfc-4254-af16-221919cdd172"
      },
      "execution_count": 32,
      "outputs": [
        {
          "output_type": "stream",
          "name": "stdout",
          "text": [
            "Lista desordenada: [100, 20, 31, 1, 6, 11]\n",
            "\n",
            "Lista Ordenada: [1, 6, 11, 20, 31, 100]\n",
            "\n",
            "Lista Inversa: [100, 31, 20, 11, 6, 1]\n"
          ]
        }
      ]
    },
    {
      "cell_type": "markdown",
      "source": [
        "#Operadores *in* y *not in*\n",
        "\n",
        "Estos operadores son capaces de revisar la lista para identificar si un valor especifico esta almacenado dentro de la lista o no."
      ],
      "metadata": {
        "id": "0fP6tAMeOAR4"
      }
    },
    {
      "cell_type": "code",
      "source": [
        "operadores = [1, 3, 5, 7]\n",
        "print(\"Esta el valor 2 dentro de la lista?:\", 2 in operadores) #si el valor 2 esta dentro de la lista\n",
        "print()\n",
        "print(\"Esta el valor 5 dentro de la lista?:\", 5 in operadores) #si el valor 5 esta dentro de la lista\n",
        "print()\n",
        "print(\"No esta el valor 2 dentro de la lista?:\", 2 not in operadores)#el valor 2 no esta en la lista?\n",
        "print()\n",
        "print(\"No esta el valor 5 dentro de la lista?:\", 5 not in operadores)"
      ],
      "metadata": {
        "colab": {
          "base_uri": "https://localhost:8080/"
        },
        "id": "Dhx_aGexOGQK",
        "outputId": "70901db1-7346-4291-e974-95630b9853e2"
      },
      "execution_count": 37,
      "outputs": [
        {
          "output_type": "stream",
          "name": "stdout",
          "text": [
            "Esta el valor 2 dentro de la lista?: False\n",
            "\n",
            "Esta el valor 5 dentro de la lista?: True\n",
            "\n",
            "No esta el valor 2 dentro de la lista?: True\n",
            "\n",
            "No esta el valor 5 dentro de la lista?: False\n"
          ]
        }
      ]
    },
    {
      "cell_type": "markdown",
      "source": [
        "##¿Cuantos elementos se repiten en dos listas?\n"
      ],
      "metadata": {
        "id": "J6pRXUwtSts5"
      }
    },
    {
      "cell_type": "code",
      "source": [
        "lista1 = [5, 11, 9, 42, 3, 49]\n",
        "lista2 = [3, 7, 11, 42, 34, 49]\n",
        "se_repiten = 0\n",
        "numeros_repetidos = []\n",
        "\n",
        "for number in lista1:\n",
        "    if number in lista2:\n",
        "        numeros_repetidos.append(number)\n",
        "        se_repiten += 1\n",
        "\n",
        "\n",
        "print(\"Se repiten\", se_repiten, \"elementos de la lista\")\n",
        "print(\"\\nLos elementos repetidos son:\", numeros_repetidos)\n",
        "\n"
      ],
      "metadata": {
        "colab": {
          "base_uri": "https://localhost:8080/"
        },
        "id": "A3ibONTfSzZG",
        "outputId": "feeaf1de-2301-4bad-bbda-cee48f54f46c"
      },
      "execution_count": 40,
      "outputs": [
        {
          "output_type": "stream",
          "name": "stdout",
          "text": [
            "Se repiten 4 elementos de la lista\n",
            "\n",
            "Los elementos repetidos son: [11, 42, 3, 49]\n"
          ]
        }
      ]
    },
    {
      "cell_type": "markdown",
      "source": [
        "##Ejercicio - eliminando elementos repetidos\n",
        "Imagina una lista: no muy larga ni muy complicada, solo una lista simple que contiene algunos números enteros. Algunos de estos números pueden estar repetidos, y esta es la clave. No queremos ninguna repetición. Queremos que sean eliminados.\n",
        "\n",
        "Tu tarea es escribir un programa que elimine todas las repeticiones de números de la lista. El objetivo es tener una lista en la que todos los números aparezcan no más de una vez.\n",
        "\n",
        "Nota: Asume que la lista original está ya dentro del código, no tienes que ingresarla desde el teclado. Por supuesto, puedes mejorar el código y agregar una parte que pueda llevar a cabo una conversación con el usuario y obtener todos los datos.\n",
        "\n",
        "Sugerencia: Te recomendamos que crees una nueva lista como área de trabajo temporal, no necesitas actualizar la lista actual."
      ],
      "metadata": {
        "id": "GmDoyZ8MckBh"
      }
    },
    {
      "cell_type": "code",
      "source": [
        "my_list = [1, 2, 4, 4, 1, 4, 2, 6, 2, 9]\n",
        "lista_depurada = []\n",
        "\n",
        "for element in my_list: \n",
        "    if element not in lista_depurada:\n",
        "        lista_depurada.append(element)\n",
        "\n",
        "print(\"Lista completa\", my_list)      \n",
        "print(\"\\nLa lista con elementos únicos:\", lista_depurada)\n"
      ],
      "metadata": {
        "colab": {
          "base_uri": "https://localhost:8080/"
        },
        "id": "vN14yigXcmHk",
        "outputId": "a8b30577-ae2c-48d3-af29-cb0a8f652a01"
      },
      "execution_count": 44,
      "outputs": [
        {
          "output_type": "stream",
          "name": "stdout",
          "text": [
            "Lista completa [1, 2, 4, 4, 1, 4, 2, 6, 2, 9]\n",
            "\n",
            "La lista con elementos únicos: [1, 2, 4, 6, 9]\n"
          ]
        }
      ]
    },
    {
      "cell_type": "markdown",
      "source": [
        "# Puntos clave\n",
        "\n",
        "1.   Si tenes una lista \"lista1\" y haces la siguiente asignacion \"lista2 = lista1\", esto no hace una copia de la lista 1, pero hace que las variables **apunten a la misma lista en la memoria**.\n",
        "2.   Si queres copiar una lista o parte de la lista, se puede hacer haciendo uso de las **rebanadas** **[:]**. Tambien se pueden utilizar indices negativos.\n",
        "Los parametos start y end son opcionales.\n",
        "3.  Para probar si existe algun/os elementos en una lista o no se utilizan las palabras clave **in** y **not in**."
      ],
      "metadata": {
        "id": "7Yc4qzQGdBES"
      }
    },
    {
      "cell_type": "code",
      "source": [
        "#1.  \n",
        "lista1 = [\"autos\", \"papa\", \"cuaderno\"]\n",
        "print(lista1)\n",
        "\n",
        "lista2 = lista1\n",
        "del lista1[0] #elimina \"autos\".\n",
        "print(lista2)\n",
        "print()\n",
        "\n",
        "#2. \n",
        "colores = [\"rojo\", \"verde\", \"azul\", \"amarillo\"]\n",
        "copia_entera_colores = colores[:]\n",
        "copia_parcial_colores = colores[1:] # copia del elemento 1 al ultimo(cuando no se asigna valor despues de \":\")\n",
        "del colores[2]\n",
        "print(colores)\n",
        "print()\n",
        "print(copia_entera_colores)\n",
        "print()\n",
        "print(copia_parcial_colores)\n",
        "print()\n",
        "\n",
        "#3. \n",
        "print(\"Existe el valor \\'rojo\\' en el array colores?: \", \"rojo\" in colores)\n",
        "print(\"\\nEn la lista colores NO esta el valor \\'verde\\'?\", \"verde\" not in colores) # da false porque SI esta!\n"
      ],
      "metadata": {
        "colab": {
          "base_uri": "https://localhost:8080/"
        },
        "id": "QrC4j7hQdZ8-",
        "outputId": "e1a5f1ce-470c-4684-ac31-e310a031bef7"
      },
      "execution_count": 7,
      "outputs": [
        {
          "output_type": "stream",
          "name": "stdout",
          "text": [
            "['autos', 'papa', 'cuaderno']\n",
            "['papa', 'cuaderno']\n",
            "\n",
            "['rojo', 'verde', 'amarillo']\n",
            "\n",
            "['rojo', 'verde', 'azul', 'amarillo']\n",
            "\n",
            "['verde', 'azul', 'amarillo']\n",
            "\n",
            "Existe el valor 'rojo' en el array colores?:  True\n",
            "\n",
            "En la lista colores NO esta el valor 'verde'? False\n"
          ]
        }
      ]
    },
    {
      "cell_type": "markdown",
      "source": [
        "#Listas en aplicaiones avanzadas (3.7.1.1)\n"
      ],
      "metadata": {
        "id": "qhUfqaiWgalo"
      }
    },
    {
      "cell_type": "markdown",
      "source": [
        "##Listas dentro de listas\n",
        "Las listas pueden constar de **escalares** (numeros), y elementos de estructura mas compleja (como strings, booleanos e incluso otras listas).\n",
        "\n",
        "\n",
        "```\n",
        "row = [WHITE_PAWN for i in range(8)]\n",
        "```\n",
        "* En este ejemplo, los datos que se utilizaran para completar la lista (WHITE_PAWN).\n",
        "* La clausula especifica cuantas veces se producen los datos dentro de la lista (for i in range(8) ).\n",
        "\n",
        "\n",
        "\n"
      ],
      "metadata": {
        "id": "ezhliBmLg8pi"
      }
    },
    {
      "cell_type": "code",
      "source": [
        "#Ejemplo 1\n",
        "cuadrados = [x ** 2 for x in range(10)] #Genera una lista de diez elementos \n",
        "                                        #y la rellena con el cuadrado de diez\n",
        "                                        #numeros enteros.\n",
        "print(cuadrados)\n",
        "print()\n",
        "\n",
        "#Ejemplo 2 \n",
        "potencia_de_dos = [2 ** i for i in range(8)] #Crea un array de 8 elementos que contiene\n",
        "                                             #las primeras 8 potencias del numero 2\n",
        "print(potencia_de_dos)\n",
        "print()\n",
        "\n",
        "#Ejemplo 3\n",
        "impares = [x for x in cuadrados if x % 2 != 0] #Crea una lista de los elementos\n",
        "                                               #impares de la lista cuadrado\n",
        "print(impares)\n",
        "\n"
      ],
      "metadata": {
        "colab": {
          "base_uri": "https://localhost:8080/"
        },
        "id": "XPm5Uzy8g5aN",
        "outputId": "719a4f88-1c67-4479-a3b3-cb8d101a8752"
      },
      "execution_count": 13,
      "outputs": [
        {
          "output_type": "stream",
          "name": "stdout",
          "text": [
            "[0, 1, 4, 9, 16, 25, 36, 49, 64, 81]\n",
            "\n",
            "[1, 2, 4, 8, 16, 32, 64, 128]\n",
            "\n",
            "[1, 9, 25, 49, 81]\n"
          ]
        }
      ]
    },
    {
      "cell_type": "markdown",
      "source": [
        "##Arreglos bidimensionales\n"
      ],
      "metadata": {
        "id": "YbOAasmTlT0i"
      }
    },
    {
      "cell_type": "code",
      "source": [
        "lista = [0, 1, 2, 3]\n",
        "x = 1\n",
        "for i in lista:\n",
        "  x *= i\n",
        "print(x)"
      ],
      "metadata": {
        "colab": {
          "base_uri": "https://localhost:8080/"
        },
        "id": "4t9JnOeglXMU",
        "outputId": "a7bb4ca2-134e-48eb-c9e1-b792679d352c"
      },
      "execution_count": 21,
      "outputs": [
        {
          "output_type": "stream",
          "name": "stdout",
          "text": [
            "0\n"
          ]
        }
      ]
    }
  ]
}